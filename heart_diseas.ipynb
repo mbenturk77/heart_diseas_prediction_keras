{
 "cells": [
  {
   "cell_type": "code",
   "execution_count": 1,
   "metadata": {},
   "outputs": [],
   "source": [
    "import tensorflow as tf\n",
    "import numpy as np\n",
    "import pandas as pd\n",
    "from tensorflow import keras\n",
    "from tensorflow.keras import layers\n",
    "seed=123"
   ]
  },
  {
   "cell_type": "code",
   "execution_count": 2,
   "metadata": {},
   "outputs": [],
   "source": [
    "file_url = 'http://storage.googleapis.com/download.tensorflow.org/data/heart.csv'\n",
    "df = pd.read_csv(file_url)\n"
   ]
  },
  {
   "cell_type": "code",
   "execution_count": 3,
   "metadata": {},
   "outputs": [
    {
     "data": {
      "text/plain": [
       "(303, 14)"
      ]
     },
     "execution_count": 3,
     "metadata": {},
     "output_type": "execute_result"
    }
   ],
   "source": [
    "df.shape"
   ]
  },
  {
   "cell_type": "code",
   "execution_count": 4,
   "metadata": {},
   "outputs": [
    {
     "data": {
      "text/html": [
       "<div>\n",
       "<style scoped>\n",
       "    .dataframe tbody tr th:only-of-type {\n",
       "        vertical-align: middle;\n",
       "    }\n",
       "\n",
       "    .dataframe tbody tr th {\n",
       "        vertical-align: top;\n",
       "    }\n",
       "\n",
       "    .dataframe thead th {\n",
       "        text-align: right;\n",
       "    }\n",
       "</style>\n",
       "<table border=\"1\" class=\"dataframe\">\n",
       "  <thead>\n",
       "    <tr style=\"text-align: right;\">\n",
       "      <th></th>\n",
       "      <th>age</th>\n",
       "      <th>sex</th>\n",
       "      <th>cp</th>\n",
       "      <th>trestbps</th>\n",
       "      <th>chol</th>\n",
       "      <th>fbs</th>\n",
       "      <th>restecg</th>\n",
       "      <th>thalach</th>\n",
       "      <th>exang</th>\n",
       "      <th>oldpeak</th>\n",
       "      <th>slope</th>\n",
       "      <th>ca</th>\n",
       "      <th>thal</th>\n",
       "      <th>target</th>\n",
       "    </tr>\n",
       "  </thead>\n",
       "  <tbody>\n",
       "    <tr>\n",
       "      <th>0</th>\n",
       "      <td>63</td>\n",
       "      <td>1</td>\n",
       "      <td>1</td>\n",
       "      <td>145</td>\n",
       "      <td>233</td>\n",
       "      <td>1</td>\n",
       "      <td>2</td>\n",
       "      <td>150</td>\n",
       "      <td>0</td>\n",
       "      <td>2.3</td>\n",
       "      <td>3</td>\n",
       "      <td>0</td>\n",
       "      <td>fixed</td>\n",
       "      <td>0</td>\n",
       "    </tr>\n",
       "    <tr>\n",
       "      <th>1</th>\n",
       "      <td>67</td>\n",
       "      <td>1</td>\n",
       "      <td>4</td>\n",
       "      <td>160</td>\n",
       "      <td>286</td>\n",
       "      <td>0</td>\n",
       "      <td>2</td>\n",
       "      <td>108</td>\n",
       "      <td>1</td>\n",
       "      <td>1.5</td>\n",
       "      <td>2</td>\n",
       "      <td>3</td>\n",
       "      <td>normal</td>\n",
       "      <td>1</td>\n",
       "    </tr>\n",
       "    <tr>\n",
       "      <th>2</th>\n",
       "      <td>67</td>\n",
       "      <td>1</td>\n",
       "      <td>4</td>\n",
       "      <td>120</td>\n",
       "      <td>229</td>\n",
       "      <td>0</td>\n",
       "      <td>2</td>\n",
       "      <td>129</td>\n",
       "      <td>1</td>\n",
       "      <td>2.6</td>\n",
       "      <td>2</td>\n",
       "      <td>2</td>\n",
       "      <td>reversible</td>\n",
       "      <td>0</td>\n",
       "    </tr>\n",
       "    <tr>\n",
       "      <th>3</th>\n",
       "      <td>37</td>\n",
       "      <td>1</td>\n",
       "      <td>3</td>\n",
       "      <td>130</td>\n",
       "      <td>250</td>\n",
       "      <td>0</td>\n",
       "      <td>0</td>\n",
       "      <td>187</td>\n",
       "      <td>0</td>\n",
       "      <td>3.5</td>\n",
       "      <td>3</td>\n",
       "      <td>0</td>\n",
       "      <td>normal</td>\n",
       "      <td>0</td>\n",
       "    </tr>\n",
       "    <tr>\n",
       "      <th>4</th>\n",
       "      <td>41</td>\n",
       "      <td>0</td>\n",
       "      <td>2</td>\n",
       "      <td>130</td>\n",
       "      <td>204</td>\n",
       "      <td>0</td>\n",
       "      <td>2</td>\n",
       "      <td>172</td>\n",
       "      <td>0</td>\n",
       "      <td>1.4</td>\n",
       "      <td>1</td>\n",
       "      <td>0</td>\n",
       "      <td>normal</td>\n",
       "      <td>0</td>\n",
       "    </tr>\n",
       "  </tbody>\n",
       "</table>\n",
       "</div>"
      ],
      "text/plain": [
       "   age  sex  cp  trestbps  chol  fbs  restecg  thalach  exang  oldpeak  slope  \\\n",
       "0   63    1   1       145   233    1        2      150      0      2.3      3   \n",
       "1   67    1   4       160   286    0        2      108      1      1.5      2   \n",
       "2   67    1   4       120   229    0        2      129      1      2.6      2   \n",
       "3   37    1   3       130   250    0        0      187      0      3.5      3   \n",
       "4   41    0   2       130   204    0        2      172      0      1.4      1   \n",
       "\n",
       "   ca        thal  target  \n",
       "0   0       fixed       0  \n",
       "1   3      normal       1  \n",
       "2   2  reversible       0  \n",
       "3   0      normal       0  \n",
       "4   0      normal       0  "
      ]
     },
     "execution_count": 4,
     "metadata": {},
     "output_type": "execute_result"
    }
   ],
   "source": [
    "df.head()"
   ]
  },
  {
   "cell_type": "code",
   "execution_count": 5,
   "metadata": {},
   "outputs": [
    {
     "name": "stdout",
     "output_type": "stream",
     "text": [
      "<class 'pandas.core.frame.DataFrame'>\n",
      "RangeIndex: 303 entries, 0 to 302\n",
      "Data columns (total 14 columns):\n",
      " #   Column    Non-Null Count  Dtype  \n",
      "---  ------    --------------  -----  \n",
      " 0   age       303 non-null    int64  \n",
      " 1   sex       303 non-null    int64  \n",
      " 2   cp        303 non-null    int64  \n",
      " 3   trestbps  303 non-null    int64  \n",
      " 4   chol      303 non-null    int64  \n",
      " 5   fbs       303 non-null    int64  \n",
      " 6   restecg   303 non-null    int64  \n",
      " 7   thalach   303 non-null    int64  \n",
      " 8   exang     303 non-null    int64  \n",
      " 9   oldpeak   303 non-null    float64\n",
      " 10  slope     303 non-null    int64  \n",
      " 11  ca        303 non-null    int64  \n",
      " 12  thal      303 non-null    object \n",
      " 13  target    303 non-null    int64  \n",
      "dtypes: float64(1), int64(12), object(1)\n",
      "memory usage: 33.3+ KB\n"
     ]
    }
   ],
   "source": [
    "df.info()"
   ]
  },
  {
   "cell_type": "code",
   "execution_count": 6,
   "metadata": {
    "scrolled": true
   },
   "outputs": [
    {
     "data": {
      "text/html": [
       "<div>\n",
       "<style scoped>\n",
       "    .dataframe tbody tr th:only-of-type {\n",
       "        vertical-align: middle;\n",
       "    }\n",
       "\n",
       "    .dataframe tbody tr th {\n",
       "        vertical-align: top;\n",
       "    }\n",
       "\n",
       "    .dataframe thead th {\n",
       "        text-align: right;\n",
       "    }\n",
       "</style>\n",
       "<table border=\"1\" class=\"dataframe\">\n",
       "  <thead>\n",
       "    <tr style=\"text-align: right;\">\n",
       "      <th></th>\n",
       "      <th>age</th>\n",
       "      <th>sex</th>\n",
       "      <th>cp</th>\n",
       "      <th>trestbps</th>\n",
       "      <th>chol</th>\n",
       "      <th>fbs</th>\n",
       "      <th>restecg</th>\n",
       "      <th>thalach</th>\n",
       "      <th>exang</th>\n",
       "      <th>oldpeak</th>\n",
       "      <th>slope</th>\n",
       "      <th>ca</th>\n",
       "      <th>target</th>\n",
       "    </tr>\n",
       "  </thead>\n",
       "  <tbody>\n",
       "    <tr>\n",
       "      <th>count</th>\n",
       "      <td>303.000000</td>\n",
       "      <td>303.000000</td>\n",
       "      <td>303.000000</td>\n",
       "      <td>303.000000</td>\n",
       "      <td>303.000000</td>\n",
       "      <td>303.000000</td>\n",
       "      <td>303.000000</td>\n",
       "      <td>303.000000</td>\n",
       "      <td>303.000000</td>\n",
       "      <td>303.000000</td>\n",
       "      <td>303.000000</td>\n",
       "      <td>303.000000</td>\n",
       "      <td>303.000000</td>\n",
       "    </tr>\n",
       "    <tr>\n",
       "      <th>mean</th>\n",
       "      <td>54.594059</td>\n",
       "      <td>0.676568</td>\n",
       "      <td>3.108911</td>\n",
       "      <td>131.785479</td>\n",
       "      <td>246.547855</td>\n",
       "      <td>0.148515</td>\n",
       "      <td>0.990099</td>\n",
       "      <td>149.194719</td>\n",
       "      <td>0.326733</td>\n",
       "      <td>1.057756</td>\n",
       "      <td>1.590759</td>\n",
       "      <td>0.683168</td>\n",
       "      <td>0.273927</td>\n",
       "    </tr>\n",
       "    <tr>\n",
       "      <th>std</th>\n",
       "      <td>9.016370</td>\n",
       "      <td>0.468560</td>\n",
       "      <td>1.028414</td>\n",
       "      <td>17.748338</td>\n",
       "      <td>52.175933</td>\n",
       "      <td>0.356198</td>\n",
       "      <td>0.988293</td>\n",
       "      <td>23.173368</td>\n",
       "      <td>0.469794</td>\n",
       "      <td>1.165025</td>\n",
       "      <td>0.617767</td>\n",
       "      <td>0.937773</td>\n",
       "      <td>0.446710</td>\n",
       "    </tr>\n",
       "    <tr>\n",
       "      <th>min</th>\n",
       "      <td>29.000000</td>\n",
       "      <td>0.000000</td>\n",
       "      <td>0.000000</td>\n",
       "      <td>94.000000</td>\n",
       "      <td>126.000000</td>\n",
       "      <td>0.000000</td>\n",
       "      <td>0.000000</td>\n",
       "      <td>71.000000</td>\n",
       "      <td>0.000000</td>\n",
       "      <td>0.000000</td>\n",
       "      <td>1.000000</td>\n",
       "      <td>0.000000</td>\n",
       "      <td>0.000000</td>\n",
       "    </tr>\n",
       "    <tr>\n",
       "      <th>25%</th>\n",
       "      <td>48.000000</td>\n",
       "      <td>0.000000</td>\n",
       "      <td>2.000000</td>\n",
       "      <td>120.000000</td>\n",
       "      <td>211.000000</td>\n",
       "      <td>0.000000</td>\n",
       "      <td>0.000000</td>\n",
       "      <td>132.000000</td>\n",
       "      <td>0.000000</td>\n",
       "      <td>0.000000</td>\n",
       "      <td>1.000000</td>\n",
       "      <td>0.000000</td>\n",
       "      <td>0.000000</td>\n",
       "    </tr>\n",
       "    <tr>\n",
       "      <th>50%</th>\n",
       "      <td>56.000000</td>\n",
       "      <td>1.000000</td>\n",
       "      <td>3.000000</td>\n",
       "      <td>130.000000</td>\n",
       "      <td>241.000000</td>\n",
       "      <td>0.000000</td>\n",
       "      <td>1.000000</td>\n",
       "      <td>152.000000</td>\n",
       "      <td>0.000000</td>\n",
       "      <td>0.800000</td>\n",
       "      <td>2.000000</td>\n",
       "      <td>0.000000</td>\n",
       "      <td>0.000000</td>\n",
       "    </tr>\n",
       "    <tr>\n",
       "      <th>75%</th>\n",
       "      <td>61.000000</td>\n",
       "      <td>1.000000</td>\n",
       "      <td>4.000000</td>\n",
       "      <td>140.000000</td>\n",
       "      <td>275.000000</td>\n",
       "      <td>0.000000</td>\n",
       "      <td>2.000000</td>\n",
       "      <td>165.500000</td>\n",
       "      <td>1.000000</td>\n",
       "      <td>1.600000</td>\n",
       "      <td>2.000000</td>\n",
       "      <td>1.000000</td>\n",
       "      <td>1.000000</td>\n",
       "    </tr>\n",
       "    <tr>\n",
       "      <th>max</th>\n",
       "      <td>77.000000</td>\n",
       "      <td>1.000000</td>\n",
       "      <td>4.000000</td>\n",
       "      <td>200.000000</td>\n",
       "      <td>564.000000</td>\n",
       "      <td>1.000000</td>\n",
       "      <td>2.000000</td>\n",
       "      <td>202.000000</td>\n",
       "      <td>1.000000</td>\n",
       "      <td>6.200000</td>\n",
       "      <td>3.000000</td>\n",
       "      <td>3.000000</td>\n",
       "      <td>1.000000</td>\n",
       "    </tr>\n",
       "  </tbody>\n",
       "</table>\n",
       "</div>"
      ],
      "text/plain": [
       "              age         sex          cp    trestbps        chol         fbs  \\\n",
       "count  303.000000  303.000000  303.000000  303.000000  303.000000  303.000000   \n",
       "mean    54.594059    0.676568    3.108911  131.785479  246.547855    0.148515   \n",
       "std      9.016370    0.468560    1.028414   17.748338   52.175933    0.356198   \n",
       "min     29.000000    0.000000    0.000000   94.000000  126.000000    0.000000   \n",
       "25%     48.000000    0.000000    2.000000  120.000000  211.000000    0.000000   \n",
       "50%     56.000000    1.000000    3.000000  130.000000  241.000000    0.000000   \n",
       "75%     61.000000    1.000000    4.000000  140.000000  275.000000    0.000000   \n",
       "max     77.000000    1.000000    4.000000  200.000000  564.000000    1.000000   \n",
       "\n",
       "          restecg     thalach       exang     oldpeak       slope          ca  \\\n",
       "count  303.000000  303.000000  303.000000  303.000000  303.000000  303.000000   \n",
       "mean     0.990099  149.194719    0.326733    1.057756    1.590759    0.683168   \n",
       "std      0.988293   23.173368    0.469794    1.165025    0.617767    0.937773   \n",
       "min      0.000000   71.000000    0.000000    0.000000    1.000000    0.000000   \n",
       "25%      0.000000  132.000000    0.000000    0.000000    1.000000    0.000000   \n",
       "50%      1.000000  152.000000    0.000000    0.800000    2.000000    0.000000   \n",
       "75%      2.000000  165.500000    1.000000    1.600000    2.000000    1.000000   \n",
       "max      2.000000  202.000000    1.000000    6.200000    3.000000    3.000000   \n",
       "\n",
       "           target  \n",
       "count  303.000000  \n",
       "mean     0.273927  \n",
       "std      0.446710  \n",
       "min      0.000000  \n",
       "25%      0.000000  \n",
       "50%      0.000000  \n",
       "75%      1.000000  \n",
       "max      1.000000  "
      ]
     },
     "execution_count": 6,
     "metadata": {},
     "output_type": "execute_result"
    }
   ],
   "source": [
    "df.describe()"
   ]
  },
  {
   "cell_type": "code",
   "execution_count": null,
   "metadata": {},
   "outputs": [],
   "source": []
  },
  {
   "cell_type": "code",
   "execution_count": 7,
   "metadata": {},
   "outputs": [],
   "source": [
    "#Despite the fact that variables sex, cp,restecg,exang,fbs,thal and target are integar, the describtive information\n",
    "# indicates they are categorical variables. Therefore, we should get original data describtion to categorigize them correctly.\n",
    "\n",
    "df['sex']=df['sex'].apply(lambda x: 'Female' if x==0 else 'Male')\n",
    "df['cp']=df['cp'].apply(lambda x:'Strong Angina' if x==0 else('Typical Angina' if x==1 else('Atypical Angina' if x==2 else('Non-anginal Pain' if x==3 else 'Asymptomatic'))))\n",
    "df['slope']=df['slope'].apply(lambda x:'Normal' if x==1 else('fixed defect' if x==2 else 'reversible defect'))\n",
    "df['restecg']=df['restecg'].apply(lambda x:'Normal' if x==0 else('ST-T Wave Abnormality' if x==1 else 'Left Ventricular Hypertrophy'))\n",
    "df['exang']=df['exang'].apply(lambda x: 'No' if x==0 else 'Yes')\n",
    "df['fbs']=df['fbs'].apply(lambda x:'Lower Than 120mg/ml' if x==0 else 'Greater Than 120mg/ml')\n",
    "df['target']=df['target'].apply(lambda x:'Not Diagnosis of heart Disease' if x==0 else 'Diagnosis of heart Disease')\n",
    "df['ca']=df['ca'].apply(lambda x:'ca1' if x==1 else('ca2' if x==2 else 'ca3'))\n",
    "\n"
   ]
  },
  {
   "cell_type": "code",
   "execution_count": 8,
   "metadata": {},
   "outputs": [
    {
     "data": {
      "text/plain": [
       "age         0\n",
       "sex         0\n",
       "cp          0\n",
       "trestbps    0\n",
       "chol        0\n",
       "fbs         0\n",
       "restecg     0\n",
       "thalach     0\n",
       "exang       0\n",
       "oldpeak     0\n",
       "slope       0\n",
       "ca          0\n",
       "thal        0\n",
       "target      0\n",
       "dtype: int64"
      ]
     },
     "execution_count": 8,
     "metadata": {},
     "output_type": "execute_result"
    }
   ],
   "source": [
    "df.isnull().sum()"
   ]
  },
  {
   "cell_type": "code",
   "execution_count": 9,
   "metadata": {
    "scrolled": true
   },
   "outputs": [],
   "source": [
    "df_categorical = df[['sex','cp','slope','restecg','exang','fbs','thal','ca']]\n",
    "df_numerical = df.drop(df_categorical.columns,axis=1)\n",
    "df_numerical.drop('target',axis=1,inplace=True)"
   ]
  },
  {
   "cell_type": "code",
   "execution_count": 10,
   "metadata": {},
   "outputs": [
    {
     "data": {
      "text/html": [
       "<div>\n",
       "<style scoped>\n",
       "    .dataframe tbody tr th:only-of-type {\n",
       "        vertical-align: middle;\n",
       "    }\n",
       "\n",
       "    .dataframe tbody tr th {\n",
       "        vertical-align: top;\n",
       "    }\n",
       "\n",
       "    .dataframe thead th {\n",
       "        text-align: right;\n",
       "    }\n",
       "</style>\n",
       "<table border=\"1\" class=\"dataframe\">\n",
       "  <thead>\n",
       "    <tr style=\"text-align: right;\">\n",
       "      <th></th>\n",
       "      <th>sex</th>\n",
       "      <th>cp</th>\n",
       "      <th>slope</th>\n",
       "      <th>restecg</th>\n",
       "      <th>exang</th>\n",
       "      <th>fbs</th>\n",
       "      <th>thal</th>\n",
       "      <th>ca</th>\n",
       "    </tr>\n",
       "  </thead>\n",
       "  <tbody>\n",
       "    <tr>\n",
       "      <th>0</th>\n",
       "      <td>Male</td>\n",
       "      <td>Typical Angina</td>\n",
       "      <td>reversible defect</td>\n",
       "      <td>Left Ventricular Hypertrophy</td>\n",
       "      <td>No</td>\n",
       "      <td>Greater Than 120mg/ml</td>\n",
       "      <td>fixed</td>\n",
       "      <td>ca3</td>\n",
       "    </tr>\n",
       "    <tr>\n",
       "      <th>1</th>\n",
       "      <td>Male</td>\n",
       "      <td>Asymptomatic</td>\n",
       "      <td>fixed defect</td>\n",
       "      <td>Left Ventricular Hypertrophy</td>\n",
       "      <td>Yes</td>\n",
       "      <td>Lower Than 120mg/ml</td>\n",
       "      <td>normal</td>\n",
       "      <td>ca3</td>\n",
       "    </tr>\n",
       "    <tr>\n",
       "      <th>2</th>\n",
       "      <td>Male</td>\n",
       "      <td>Asymptomatic</td>\n",
       "      <td>fixed defect</td>\n",
       "      <td>Left Ventricular Hypertrophy</td>\n",
       "      <td>Yes</td>\n",
       "      <td>Lower Than 120mg/ml</td>\n",
       "      <td>reversible</td>\n",
       "      <td>ca2</td>\n",
       "    </tr>\n",
       "    <tr>\n",
       "      <th>3</th>\n",
       "      <td>Male</td>\n",
       "      <td>Non-anginal Pain</td>\n",
       "      <td>reversible defect</td>\n",
       "      <td>Normal</td>\n",
       "      <td>No</td>\n",
       "      <td>Lower Than 120mg/ml</td>\n",
       "      <td>normal</td>\n",
       "      <td>ca3</td>\n",
       "    </tr>\n",
       "    <tr>\n",
       "      <th>4</th>\n",
       "      <td>Female</td>\n",
       "      <td>Atypical Angina</td>\n",
       "      <td>Normal</td>\n",
       "      <td>Left Ventricular Hypertrophy</td>\n",
       "      <td>No</td>\n",
       "      <td>Lower Than 120mg/ml</td>\n",
       "      <td>normal</td>\n",
       "      <td>ca3</td>\n",
       "    </tr>\n",
       "  </tbody>\n",
       "</table>\n",
       "</div>"
      ],
      "text/plain": [
       "      sex                cp              slope                       restecg  \\\n",
       "0    Male    Typical Angina  reversible defect  Left Ventricular Hypertrophy   \n",
       "1    Male      Asymptomatic       fixed defect  Left Ventricular Hypertrophy   \n",
       "2    Male      Asymptomatic       fixed defect  Left Ventricular Hypertrophy   \n",
       "3    Male  Non-anginal Pain  reversible defect                        Normal   \n",
       "4  Female   Atypical Angina             Normal  Left Ventricular Hypertrophy   \n",
       "\n",
       "  exang                    fbs        thal   ca  \n",
       "0    No  Greater Than 120mg/ml       fixed  ca3  \n",
       "1   Yes    Lower Than 120mg/ml      normal  ca3  \n",
       "2   Yes    Lower Than 120mg/ml  reversible  ca2  \n",
       "3    No    Lower Than 120mg/ml      normal  ca3  \n",
       "4    No    Lower Than 120mg/ml      normal  ca3  "
      ]
     },
     "execution_count": 10,
     "metadata": {},
     "output_type": "execute_result"
    }
   ],
   "source": [
    "df_categorical.head()"
   ]
  },
  {
   "cell_type": "code",
   "execution_count": 11,
   "metadata": {},
   "outputs": [
    {
     "data": {
      "text/html": [
       "<div>\n",
       "<style scoped>\n",
       "    .dataframe tbody tr th:only-of-type {\n",
       "        vertical-align: middle;\n",
       "    }\n",
       "\n",
       "    .dataframe tbody tr th {\n",
       "        vertical-align: top;\n",
       "    }\n",
       "\n",
       "    .dataframe thead th {\n",
       "        text-align: right;\n",
       "    }\n",
       "</style>\n",
       "<table border=\"1\" class=\"dataframe\">\n",
       "  <thead>\n",
       "    <tr style=\"text-align: right;\">\n",
       "      <th></th>\n",
       "      <th>age</th>\n",
       "      <th>trestbps</th>\n",
       "      <th>chol</th>\n",
       "      <th>thalach</th>\n",
       "      <th>oldpeak</th>\n",
       "    </tr>\n",
       "  </thead>\n",
       "  <tbody>\n",
       "    <tr>\n",
       "      <th>0</th>\n",
       "      <td>63</td>\n",
       "      <td>145</td>\n",
       "      <td>233</td>\n",
       "      <td>150</td>\n",
       "      <td>2.3</td>\n",
       "    </tr>\n",
       "    <tr>\n",
       "      <th>1</th>\n",
       "      <td>67</td>\n",
       "      <td>160</td>\n",
       "      <td>286</td>\n",
       "      <td>108</td>\n",
       "      <td>1.5</td>\n",
       "    </tr>\n",
       "    <tr>\n",
       "      <th>2</th>\n",
       "      <td>67</td>\n",
       "      <td>120</td>\n",
       "      <td>229</td>\n",
       "      <td>129</td>\n",
       "      <td>2.6</td>\n",
       "    </tr>\n",
       "    <tr>\n",
       "      <th>3</th>\n",
       "      <td>37</td>\n",
       "      <td>130</td>\n",
       "      <td>250</td>\n",
       "      <td>187</td>\n",
       "      <td>3.5</td>\n",
       "    </tr>\n",
       "    <tr>\n",
       "      <th>4</th>\n",
       "      <td>41</td>\n",
       "      <td>130</td>\n",
       "      <td>204</td>\n",
       "      <td>172</td>\n",
       "      <td>1.4</td>\n",
       "    </tr>\n",
       "  </tbody>\n",
       "</table>\n",
       "</div>"
      ],
      "text/plain": [
       "   age  trestbps  chol  thalach  oldpeak\n",
       "0   63       145   233      150      2.3\n",
       "1   67       160   286      108      1.5\n",
       "2   67       120   229      129      2.6\n",
       "3   37       130   250      187      3.5\n",
       "4   41       130   204      172      1.4"
      ]
     },
     "execution_count": 11,
     "metadata": {},
     "output_type": "execute_result"
    }
   ],
   "source": [
    "df_numerical.head()"
   ]
  },
  {
   "cell_type": "code",
   "execution_count": 12,
   "metadata": {},
   "outputs": [],
   "source": [
    "y = pd.get_dummies(df['target'])"
   ]
  },
  {
   "cell_type": "code",
   "execution_count": 13,
   "metadata": {},
   "outputs": [],
   "source": [
    "y.drop(['Not Diagnosis of heart Disease'],inplace=True,axis=1)\n"
   ]
  },
  {
   "cell_type": "code",
   "execution_count": 14,
   "metadata": {},
   "outputs": [],
   "source": [
    "df_categorical = pd.get_dummies(df_categorical,drop_first=True)"
   ]
  },
  {
   "cell_type": "code",
   "execution_count": 15,
   "metadata": {},
   "outputs": [
    {
     "data": {
      "text/html": [
       "<div>\n",
       "<style scoped>\n",
       "    .dataframe tbody tr th:only-of-type {\n",
       "        vertical-align: middle;\n",
       "    }\n",
       "\n",
       "    .dataframe tbody tr th {\n",
       "        vertical-align: top;\n",
       "    }\n",
       "\n",
       "    .dataframe thead th {\n",
       "        text-align: right;\n",
       "    }\n",
       "</style>\n",
       "<table border=\"1\" class=\"dataframe\">\n",
       "  <thead>\n",
       "    <tr style=\"text-align: right;\">\n",
       "      <th></th>\n",
       "      <th>sex_Male</th>\n",
       "      <th>cp_Atypical Angina</th>\n",
       "      <th>cp_Non-anginal Pain</th>\n",
       "      <th>cp_Strong Angina</th>\n",
       "      <th>cp_Typical Angina</th>\n",
       "      <th>slope_fixed defect</th>\n",
       "      <th>slope_reversible defect</th>\n",
       "      <th>restecg_Normal</th>\n",
       "      <th>restecg_ST-T Wave Abnormality</th>\n",
       "      <th>exang_Yes</th>\n",
       "      <th>fbs_Lower Than 120mg/ml</th>\n",
       "      <th>thal_2</th>\n",
       "      <th>thal_fixed</th>\n",
       "      <th>thal_normal</th>\n",
       "      <th>thal_reversible</th>\n",
       "      <th>ca_ca2</th>\n",
       "      <th>ca_ca3</th>\n",
       "    </tr>\n",
       "  </thead>\n",
       "  <tbody>\n",
       "    <tr>\n",
       "      <th>0</th>\n",
       "      <td>1</td>\n",
       "      <td>0</td>\n",
       "      <td>0</td>\n",
       "      <td>0</td>\n",
       "      <td>1</td>\n",
       "      <td>0</td>\n",
       "      <td>1</td>\n",
       "      <td>0</td>\n",
       "      <td>0</td>\n",
       "      <td>0</td>\n",
       "      <td>0</td>\n",
       "      <td>0</td>\n",
       "      <td>1</td>\n",
       "      <td>0</td>\n",
       "      <td>0</td>\n",
       "      <td>0</td>\n",
       "      <td>1</td>\n",
       "    </tr>\n",
       "    <tr>\n",
       "      <th>1</th>\n",
       "      <td>1</td>\n",
       "      <td>0</td>\n",
       "      <td>0</td>\n",
       "      <td>0</td>\n",
       "      <td>0</td>\n",
       "      <td>1</td>\n",
       "      <td>0</td>\n",
       "      <td>0</td>\n",
       "      <td>0</td>\n",
       "      <td>1</td>\n",
       "      <td>1</td>\n",
       "      <td>0</td>\n",
       "      <td>0</td>\n",
       "      <td>1</td>\n",
       "      <td>0</td>\n",
       "      <td>0</td>\n",
       "      <td>1</td>\n",
       "    </tr>\n",
       "    <tr>\n",
       "      <th>2</th>\n",
       "      <td>1</td>\n",
       "      <td>0</td>\n",
       "      <td>0</td>\n",
       "      <td>0</td>\n",
       "      <td>0</td>\n",
       "      <td>1</td>\n",
       "      <td>0</td>\n",
       "      <td>0</td>\n",
       "      <td>0</td>\n",
       "      <td>1</td>\n",
       "      <td>1</td>\n",
       "      <td>0</td>\n",
       "      <td>0</td>\n",
       "      <td>0</td>\n",
       "      <td>1</td>\n",
       "      <td>1</td>\n",
       "      <td>0</td>\n",
       "    </tr>\n",
       "    <tr>\n",
       "      <th>3</th>\n",
       "      <td>1</td>\n",
       "      <td>0</td>\n",
       "      <td>1</td>\n",
       "      <td>0</td>\n",
       "      <td>0</td>\n",
       "      <td>0</td>\n",
       "      <td>1</td>\n",
       "      <td>1</td>\n",
       "      <td>0</td>\n",
       "      <td>0</td>\n",
       "      <td>1</td>\n",
       "      <td>0</td>\n",
       "      <td>0</td>\n",
       "      <td>1</td>\n",
       "      <td>0</td>\n",
       "      <td>0</td>\n",
       "      <td>1</td>\n",
       "    </tr>\n",
       "    <tr>\n",
       "      <th>4</th>\n",
       "      <td>0</td>\n",
       "      <td>1</td>\n",
       "      <td>0</td>\n",
       "      <td>0</td>\n",
       "      <td>0</td>\n",
       "      <td>0</td>\n",
       "      <td>0</td>\n",
       "      <td>0</td>\n",
       "      <td>0</td>\n",
       "      <td>0</td>\n",
       "      <td>1</td>\n",
       "      <td>0</td>\n",
       "      <td>0</td>\n",
       "      <td>1</td>\n",
       "      <td>0</td>\n",
       "      <td>0</td>\n",
       "      <td>1</td>\n",
       "    </tr>\n",
       "  </tbody>\n",
       "</table>\n",
       "</div>"
      ],
      "text/plain": [
       "   sex_Male  cp_Atypical Angina  cp_Non-anginal Pain  cp_Strong Angina  \\\n",
       "0         1                   0                    0                 0   \n",
       "1         1                   0                    0                 0   \n",
       "2         1                   0                    0                 0   \n",
       "3         1                   0                    1                 0   \n",
       "4         0                   1                    0                 0   \n",
       "\n",
       "   cp_Typical Angina  slope_fixed defect  slope_reversible defect  \\\n",
       "0                  1                   0                        1   \n",
       "1                  0                   1                        0   \n",
       "2                  0                   1                        0   \n",
       "3                  0                   0                        1   \n",
       "4                  0                   0                        0   \n",
       "\n",
       "   restecg_Normal  restecg_ST-T Wave Abnormality  exang_Yes  \\\n",
       "0               0                              0          0   \n",
       "1               0                              0          1   \n",
       "2               0                              0          1   \n",
       "3               1                              0          0   \n",
       "4               0                              0          0   \n",
       "\n",
       "   fbs_Lower Than 120mg/ml  thal_2  thal_fixed  thal_normal  thal_reversible  \\\n",
       "0                        0       0           1            0                0   \n",
       "1                        1       0           0            1                0   \n",
       "2                        1       0           0            0                1   \n",
       "3                        1       0           0            1                0   \n",
       "4                        1       0           0            1                0   \n",
       "\n",
       "   ca_ca2  ca_ca3  \n",
       "0       0       1  \n",
       "1       0       1  \n",
       "2       1       0  \n",
       "3       0       1  \n",
       "4       0       1  "
      ]
     },
     "execution_count": 15,
     "metadata": {},
     "output_type": "execute_result"
    }
   ],
   "source": [
    "df_categorical.head()"
   ]
  },
  {
   "cell_type": "code",
   "execution_count": 16,
   "metadata": {},
   "outputs": [
    {
     "data": {
      "image/png": "[encoded data removed]",
      "text/plain": [
       "<Figure size 1440x1080 with 6 Axes>"
      ]
     },
     "metadata": {
      "needs_background": "light"
     },
     "output_type": "display_data"
    }
   ],
   "source": [
    "%matplotlib inline \n",
    "import matplotlib.pyplot as plt\n",
    "df_numerical.hist(bins=50, figsize=(20,15))\n",
    "plt.show()"
   ]
  },
  {
   "cell_type": "code",
   "execution_count": 17,
   "metadata": {},
   "outputs": [
    {
     "name": "stdout",
     "output_type": "stream",
     "text": [
      "               age  trestbps      chol   thalach   oldpeak\n",
      "age       1.000000  0.296902  0.187935 -0.388988  0.202158\n",
      "trestbps  0.296902  1.000000  0.117326 -0.062518  0.190704\n",
      "chol      0.187935  0.117326  1.000000  0.022511  0.031203\n",
      "thalach  -0.388988 -0.062518  0.022511  1.000000 -0.340969\n",
      "oldpeak   0.202158  0.190704  0.031203 -0.340969  1.000000\n"
     ]
    }
   ],
   "source": [
    "corr_matrix = df_numerical.corr()\n",
    "print(corr_matrix)"
   ]
  },
  {
   "cell_type": "code",
   "execution_count": 18,
   "metadata": {},
   "outputs": [],
   "source": [
    "from sklearn.preprocessing import MinMaxScaler\n",
    "# Define the scaler\n",
    "scaler = MinMaxScaler().fit(df_numerical)\n",
    "\n",
    "df_num = pd.DataFrame(scaler.transform(df_numerical))\n"
   ]
  },
  {
   "cell_type": "code",
   "execution_count": 19,
   "metadata": {},
   "outputs": [],
   "source": [
    "df_num.columns=df_numerical.columns  "
   ]
  },
  {
   "cell_type": "code",
   "execution_count": 20,
   "metadata": {},
   "outputs": [
    {
     "data": {
      "text/html": [
       "<div>\n",
       "<style scoped>\n",
       "    .dataframe tbody tr th:only-of-type {\n",
       "        vertical-align: middle;\n",
       "    }\n",
       "\n",
       "    .dataframe tbody tr th {\n",
       "        vertical-align: top;\n",
       "    }\n",
       "\n",
       "    .dataframe thead th {\n",
       "        text-align: right;\n",
       "    }\n",
       "</style>\n",
       "<table border=\"1\" class=\"dataframe\">\n",
       "  <thead>\n",
       "    <tr style=\"text-align: right;\">\n",
       "      <th></th>\n",
       "      <th>age</th>\n",
       "      <th>trestbps</th>\n",
       "      <th>chol</th>\n",
       "      <th>thalach</th>\n",
       "      <th>oldpeak</th>\n",
       "    </tr>\n",
       "  </thead>\n",
       "  <tbody>\n",
       "    <tr>\n",
       "      <th>0</th>\n",
       "      <td>0.708333</td>\n",
       "      <td>0.481132</td>\n",
       "      <td>0.244292</td>\n",
       "      <td>0.603053</td>\n",
       "      <td>0.370968</td>\n",
       "    </tr>\n",
       "    <tr>\n",
       "      <th>1</th>\n",
       "      <td>0.791667</td>\n",
       "      <td>0.622642</td>\n",
       "      <td>0.365297</td>\n",
       "      <td>0.282443</td>\n",
       "      <td>0.241935</td>\n",
       "    </tr>\n",
       "    <tr>\n",
       "      <th>2</th>\n",
       "      <td>0.791667</td>\n",
       "      <td>0.245283</td>\n",
       "      <td>0.235160</td>\n",
       "      <td>0.442748</td>\n",
       "      <td>0.419355</td>\n",
       "    </tr>\n",
       "    <tr>\n",
       "      <th>3</th>\n",
       "      <td>0.166667</td>\n",
       "      <td>0.339623</td>\n",
       "      <td>0.283105</td>\n",
       "      <td>0.885496</td>\n",
       "      <td>0.564516</td>\n",
       "    </tr>\n",
       "    <tr>\n",
       "      <th>4</th>\n",
       "      <td>0.250000</td>\n",
       "      <td>0.339623</td>\n",
       "      <td>0.178082</td>\n",
       "      <td>0.770992</td>\n",
       "      <td>0.225806</td>\n",
       "    </tr>\n",
       "  </tbody>\n",
       "</table>\n",
       "</div>"
      ],
      "text/plain": [
       "        age  trestbps      chol   thalach   oldpeak\n",
       "0  0.708333  0.481132  0.244292  0.603053  0.370968\n",
       "1  0.791667  0.622642  0.365297  0.282443  0.241935\n",
       "2  0.791667  0.245283  0.235160  0.442748  0.419355\n",
       "3  0.166667  0.339623  0.283105  0.885496  0.564516\n",
       "4  0.250000  0.339623  0.178082  0.770992  0.225806"
      ]
     },
     "execution_count": 20,
     "metadata": {},
     "output_type": "execute_result"
    }
   ],
   "source": [
    "df_num.head()"
   ]
  },
  {
   "cell_type": "code",
   "execution_count": 21,
   "metadata": {},
   "outputs": [],
   "source": [
    "X = pd.concat([df_categorical,df_numerical],axis=1)"
   ]
  },
  {
   "cell_type": "code",
   "execution_count": 22,
   "metadata": {},
   "outputs": [
    {
     "data": {
      "text/plain": [
       "sex_Male                         0\n",
       "cp_Atypical Angina               0\n",
       "cp_Non-anginal Pain              0\n",
       "cp_Strong Angina                 0\n",
       "cp_Typical Angina                0\n",
       "slope_fixed defect               0\n",
       "slope_reversible defect          0\n",
       "restecg_Normal                   0\n",
       "restecg_ST-T Wave Abnormality    0\n",
       "exang_Yes                        0\n",
       "fbs_Lower Than 120mg/ml          0\n",
       "thal_2                           0\n",
       "thal_fixed                       0\n",
       "thal_normal                      0\n",
       "thal_reversible                  0\n",
       "ca_ca2                           0\n",
       "ca_ca3                           0\n",
       "age                              0\n",
       "trestbps                         0\n",
       "chol                             0\n",
       "thalach                          0\n",
       "oldpeak                          0\n",
       "dtype: int64"
      ]
     },
     "execution_count": 22,
     "metadata": {},
     "output_type": "execute_result"
    }
   ],
   "source": [
    "X.isnull().sum()"
   ]
  },
  {
   "cell_type": "code",
   "execution_count": 23,
   "metadata": {},
   "outputs": [
    {
     "data": {
      "text/plain": [
       "(303, 22)"
      ]
     },
     "execution_count": 23,
     "metadata": {},
     "output_type": "execute_result"
    }
   ],
   "source": [
    "X.shape"
   ]
  },
  {
   "cell_type": "code",
   "execution_count": 24,
   "metadata": {},
   "outputs": [
    {
     "name": "stdout",
     "output_type": "stream",
     "text": [
      "The percentage of Diagnosis of Heart Disease :27.39%\n"
     ]
    }
   ],
   "source": [
    "percentage = float((y.isin([1]).sum()/len(y)))\n",
    "\n",
    "print('The percentage of Diagnosis of Heart Disease :{:.2%}'.format(percentage))"
   ]
  },
  {
   "cell_type": "code",
   "execution_count": 25,
   "metadata": {},
   "outputs": [],
   "source": [
    "from sklearn.model_selection import train_test_split\n",
    "X_train, X_test, y_train, y_test =train_test_split(X, y, test_size=0.05, random_state=seed)"
   ]
  },
  {
   "cell_type": "code",
   "execution_count": 26,
   "metadata": {},
   "outputs": [],
   "source": [
    "input_dim = X_train.shape[1]"
   ]
  },
  {
   "cell_type": "code",
   "execution_count": 27,
   "metadata": {},
   "outputs": [],
   "source": [
    "from imblearn.over_sampling import SMOTE\n",
    "from sklearn.decomposition import PCA\n",
    "from imblearn.pipeline import Pipeline\n",
    "from keras.optimizers import Adam\n",
    "from keras.wrappers.scikit_learn import KerasClassifier\n",
    "from keras.layers import BatchNormalization\n",
    "from keras.layers import Dropout\n",
    "from sklearn.impute import SimpleImputer\n",
    "from sklearn.preprocessing import StandardScaler, MinMaxScaler\n",
    "from sklearn.model_selection import GridSearchCV\n",
    "from sklearn.metrics import mean_absolute_error, mean_squared_error\n",
    "from keras.regularizers import l2\n",
    "from keras.models import Sequential\n",
    "from keras.layers import Activation, Dense"
   ]
  },
  {
   "cell_type": "code",
   "execution_count": 28,
   "metadata": {},
   "outputs": [],
   "source": [
    "def make_keras_model(learning_rate=0.01,activation='relu',layer1_units=64, layer2_units=64,\n",
    "                      layer3_units=64,dropout_rate=0.1, nbr_features=22 ,l2_regularization=0):\n",
    "     \n",
    "        # Describing optimization function\n",
    "        opt = Adam(lr =learning_rate)  \n",
    "        # Initialize the model\n",
    "        model = Sequential()\n",
    "        # Add input layer \n",
    "        model.add(Dense(layer1_units,input_shape=(nbr_features,),activation=activation))\n",
    "        # Add Batchnormalization layer\n",
    "        model.add(BatchNormalization())\n",
    "        # Add first hidden layer\n",
    "        model.add(Dense(layer2_units, activation = activation,kernel_regularizer=l2(l2_regularization)))\n",
    "        # Add Batchnormalization layer\n",
    "        model.add(BatchNormalization())\n",
    "        # Add droupout layer\n",
    "        model.add(Dropout(rate=dropout_rate))\n",
    "        # Add Batchnormalization layer\n",
    "        model.add(BatchNormalization())\n",
    "        # Add second hidden layer\n",
    "        model.add(Dense(layer3_units, activation = activation,kernel_regularizer=l2(l2_regularization)))\n",
    "        # Add Batchnormalization layer\n",
    "        model.add(BatchNormalization())\n",
    "        # Add output layer\n",
    "        model.add(Dense(1, activation = 'sigmoid'))\n",
    "    \n",
    "        # Compile your model with your optimizer, loss, and metrics\n",
    "        model.compile(optimizer = opt, loss = 'binary_crossentropy', metrics = ['accuracy'])\n",
    "        return model"
   ]
  },
  {
   "cell_type": "code",
   "execution_count": 29,
   "metadata": {},
   "outputs": [],
   "source": [
    "\n",
    "keras_estimator = KerasClassifier(make_keras_model,\n",
    "                                  learning_rate=0.01,\n",
    "                                   activation='relu',\n",
    "                                 batch_size=32, \n",
    "                                 layer1_units=64,\n",
    "                                 layer2_units=32,\n",
    "                                 layer3_units=16,\n",
    "                                 dropout_rate=0,\n",
    "                                 l2_regularization=0,\n",
    "                                 epochs=10, \n",
    "                                 verbose=False)\n",
    "\n"
   ]
  },
  {
   "cell_type": "code",
   "execution_count": 30,
   "metadata": {},
   "outputs": [],
   "source": [
    "pipe = Pipeline([\n",
    "        ('sampling', SMOTE()),\n",
    "        ('imputer', SimpleImputer()),\n",
    "        ('scaler', StandardScaler()),\n",
    "        ('reduce_dim', PCA()),\n",
    "        ('model', keras_estimator)\n",
    "        \n",
    "        ])\n",
    "\n"
   ]
  },
  {
   "cell_type": "code",
   "execution_count": 31,
   "metadata": {},
   "outputs": [],
   "source": [
    "param_grid_keras ={\n",
    "    'sampling': [SMOTE()],\n",
    "    #'imputer__strategy': ['mean', 'median'],\n",
    "    #'scaler': [MinMaxScaler(), StandardScaler()],\n",
    "    #'reduce_dim__n_components':[5,7,11],\n",
    "    'model__layer1_units': [64,128],\n",
    "    'model__layer2_units': [32, 64],\n",
    "    'model__layer3_units': [16, 32],\n",
    "    'model__dropout_rate': [0, 0.2, 0.5],\n",
    "    'model__epochs': [10,20,30,40, 60],\n",
    "    'model__learning_rate':[0.01,0.1],\n",
    "    \n",
    "    'model__activation':['relu','softmax','tanh'],\n",
    "    'model__batch_size':[32,64],\n",
    "    \n",
    "}\n",
    "\n"
   ]
  },
  {
   "cell_type": "code",
   "execution_count": 32,
   "metadata": {},
   "outputs": [],
   "source": [
    "\n",
    "gridsearch_keras = GridSearchCV(pipe,\n",
    "                                param_grid=param_grid_keras,\n",
    "                                scoring='neg_mean_squared_error',\n",
    "                                cv=2, \n",
    "                                refit=True,\n",
    "                                verbose=True)\n",
    "\n",
    "\n"
   ]
  },
  {
   "cell_type": "code",
   "execution_count": 33,
   "metadata": {},
   "outputs": [
    {
     "name": "stdout",
     "output_type": "stream",
     "text": [
      "Fitting 2 folds for each of 1440 candidates, totalling 2880 fits\n"
     ]
    },
    {
     "name": "stderr",
     "output_type": "stream",
     "text": [
      "[Parallel(n_jobs=1)]: Using backend SequentialBackend with 1 concurrent workers.\n"
     ]
    },
    {
     "name": "stdout",
     "output_type": "stream",
     "text": [
      "WARNING:tensorflow:From C:\\Users\\Mehmet\\anaconda3\\lib\\site-packages\\tensorflow\\python\\keras\\wrappers\\scikit_learn.py:241: Sequential.predict_classes (from tensorflow.python.keras.engine.sequential) is deprecated and will be removed after 2021-01-01.\n",
      "Instructions for updating:\n",
      "Please use instead:* `np.argmax(model.predict(x), axis=-1)`,   if your model does multi-class classification   (e.g. if it uses a `softmax` last-layer activation).* `(model.predict(x) > 0.5).astype(\"int32\")`,   if your model does binary classification   (e.g. if it uses a `sigmoid` last-layer activation).\n"
     ]
    },
    {
     "name": "stderr",
     "output_type": "stream",
     "text": [
      "[Parallel(n_jobs=1)]: Done 2880 out of 2880 | elapsed: 255.9min finished\n"
     ]
    },
    {
     "data": {
      "text/plain": [
       "GridSearchCV(cv=2,\n",
       "             estimator=Pipeline(steps=[('sampling', SMOTE()),\n",
       "                                       ('imputer', SimpleImputer()),\n",
       "                                       ('scaler', StandardScaler()),\n",
       "                                       ('reduce_dim', PCA()),\n",
       "                                       ('model',\n",
       "                                        <tensorflow.python.keras.wrappers.scikit_learn.KerasClassifier object at 0x0000005782673C88>)]),\n",
       "             param_grid={'model__activation': ['relu', 'softmax', 'tanh'],\n",
       "                         'model__batch_size': [32, 64],\n",
       "                         'model__dropout_rate': [0, 0.2, 0.5],\n",
       "                         'model__epochs': [10, 20, 30, 40, 60],\n",
       "                         'model__layer1_units': [64, 128],\n",
       "                         'model__layer2_units': [32, 64],\n",
       "                         'model__layer3_units': [16, 32],\n",
       "                         'model__learning_rate': [0.01, 0.1],\n",
       "                         'sampling': [SMOTE()]},\n",
       "             scoring='neg_mean_squared_error', verbose=True)"
      ]
     },
     "execution_count": 33,
     "metadata": {},
     "output_type": "execute_result"
    }
   ],
   "source": [
    "gridsearch_keras.fit(X_train,y_train)"
   ]
  },
  {
   "cell_type": "code",
   "execution_count": 38,
   "metadata": {},
   "outputs": [],
   "source": [
    "y_pred = gridsearch_keras.predict(X_test)"
   ]
  },
  {
   "cell_type": "code",
   "execution_count": 43,
   "metadata": {},
   "outputs": [
    {
     "name": "stdout",
     "output_type": "stream",
     "text": [
      "Best params: {'model__activation': 'tanh', 'model__batch_size': 32, 'model__dropout_rate': 0.5, 'model__epochs': 20, 'model__layer1_units': 128, 'model__layer2_units': 32, 'model__layer3_units': 32, 'model__learning_rate': 0.01, 'sampling': SMOTE()}\n"
     ]
    }
   ],
   "source": [
    "print(f'Best params: {gridsearch_keras.best_params_}')"
   ]
  },
  {
   "cell_type": "code",
   "execution_count": 37,
   "metadata": {
    "scrolled": true
   },
   "outputs": [
    {
     "name": "stdout",
     "output_type": "stream",
     "text": [
      "Best score: -0.15678418803418803\n"
     ]
    }
   ],
   "source": [
    "print(f'Best score: {gridsearch_keras.best_score_}')"
   ]
  },
  {
   "cell_type": "code",
   "execution_count": 39,
   "metadata": {},
   "outputs": [
    {
     "name": "stdout",
     "output_type": "stream",
     "text": [
      "Test MSE: 0.125\n"
     ]
    }
   ],
   "source": [
    "print(f'Test MSE: {mean_squared_error(y_true=y_test, y_pred=y_pred)}')"
   ]
  },
  {
   "cell_type": "code",
   "execution_count": 40,
   "metadata": {},
   "outputs": [
    {
     "name": "stdout",
     "output_type": "stream",
     "text": [
      "Test MAE: 31.875\n"
     ]
    }
   ],
   "source": [
    "print(f'Test MAE: {mean_absolute_error(y_true=y_test, y_pred=y_pred)}')"
   ]
  },
  {
   "cell_type": "code",
   "execution_count": 52,
   "metadata": {},
   "outputs": [
    {
     "data": {
      "text/plain": [
       "0.5"
      ]
     },
     "execution_count": 52,
     "metadata": {},
     "output_type": "execute_result"
    }
   ],
   "source": [
    "gridsearch_keras.best_params_['model__learning_rate']"
   ]
  },
  {
   "cell_type": "code",
   "execution_count": 48,
   "metadata": {},
   "outputs": [],
   "source": [
    "\n",
    "sm = SMOTE(random_state=42)\n",
    "X_res, y_res = sm.fit_resample(X, y)"
   ]
  },
  {
   "cell_type": "code",
   "execution_count": 49,
   "metadata": {},
   "outputs": [],
   "source": [
    "from sklearn.model_selection import train_test_split\n",
    "X_train, X_test, y_train, y_test =train_test_split(X_res, y_res, test_size=0.05, random_state=seed)"
   ]
  },
  {
   "cell_type": "code",
   "execution_count": 57,
   "metadata": {},
   "outputs": [
    {
     "name": "stdout",
     "output_type": "stream",
     "text": [
      "22\n"
     ]
    }
   ],
   "source": [
    "nbr_features = X_train.shape[1]\n",
    "print(nbr_features)"
   ]
  },
  {
   "cell_type": "code",
   "execution_count": 58,
   "metadata": {},
   "outputs": [],
   "source": [
    "# Describing optimization function\n",
    "opt = Adam(lr =gridsearch_keras.best_params_['model__learning_rate'])  \n",
    "# Initialize the model\n",
    "model = Sequential()\n",
    "# Add input layer \n",
    "model.add(Dense(gridsearch_keras.best_params_['model__layer1_units'],input_shape=(nbr_features,),activation=gridsearch_keras.best_params_['model__activation']))\n",
    "# Add Batchnormalization layer\n",
    "model.add(BatchNormalization())\n",
    "# Add first hidden layer\n",
    "model.add(Dense(gridsearch_keras.best_params_['model__layer2_units'], activation = gridsearch_keras.best_params_['model__activation'],kernel_regularizer=l2(0)))\n",
    "# Add Batchnormalization layer\n",
    "model.add(BatchNormalization())\n",
    "# Add droupout layer\n",
    "model.add(Dropout(rate=gridsearch_keras.best_params_['model__dropout_rate']))\n",
    "# Add Batchnormalization layer\n",
    "model.add(BatchNormalization())\n",
    "# Add second hidden layer\n",
    "model.add(Dense(gridsearch_keras.best_params_['model__layer3_units'], activation = gridsearch_keras.best_params_['model__activation'],kernel_regularizer=l2(0)))\n",
    "# Add Batchnormalization layer\n",
    "model.add(BatchNormalization())\n",
    "# Add output layer\n",
    "model.add(Dense(1, activation = 'sigmoid'))\n",
    "    \n",
    "# Compile your model with your optimizer, loss, and metrics\n",
    "model.compile(optimizer = opt, loss = 'binary_crossentropy', metrics = ['accuracy'])"
   ]
  },
  {
   "cell_type": "code",
   "execution_count": 59,
   "metadata": {
    "scrolled": true
   },
   "outputs": [
    {
     "name": "stdout",
     "output_type": "stream",
     "text": [
      "Epoch 1/20\n",
      "14/14 [==============================] - 2s 130ms/step - loss: 0.7888 - accuracy: 0.5670 - val_loss: 0.6836 - val_accuracy: 0.5909\n",
      "Epoch 2/20\n",
      "14/14 [==============================] - 0s 29ms/step - loss: 0.7200 - accuracy: 0.5742 - val_loss: 0.6792 - val_accuracy: 0.5909\n",
      "Epoch 3/20\n",
      "14/14 [==============================] - 0s 26ms/step - loss: 0.7210 - accuracy: 0.5933 - val_loss: 0.6747 - val_accuracy: 0.5909\n",
      "Epoch 4/20\n",
      "14/14 [==============================] - 0s 27ms/step - loss: 0.7015 - accuracy: 0.5550 - val_loss: 0.6789 - val_accuracy: 0.5909\n",
      "Epoch 5/20\n",
      "14/14 [==============================] - 0s 29ms/step - loss: 0.7312 - accuracy: 0.5239 - val_loss: 0.6743 - val_accuracy: 0.5909\n",
      "Epoch 6/20\n",
      "14/14 [==============================] - 0s 25ms/step - loss: 0.7337 - accuracy: 0.4928 - val_loss: 0.6769 - val_accuracy: 0.5909\n",
      "Epoch 7/20\n",
      "14/14 [==============================] - 0s 22ms/step - loss: 0.7009 - accuracy: 0.5359 - val_loss: 0.6777 - val_accuracy: 0.5909\n",
      "Epoch 8/20\n",
      "14/14 [==============================] - 0s 21ms/step - loss: 0.7292 - accuracy: 0.5239 - val_loss: 0.7316 - val_accuracy: 0.4091\n",
      "Epoch 9/20\n",
      "14/14 [==============================] - 0s 17ms/step - loss: 0.7200 - accuracy: 0.5048 - val_loss: 0.7929 - val_accuracy: 0.4091\n",
      "Epoch 10/20\n",
      "14/14 [==============================] - 0s 17ms/step - loss: 0.7275 - accuracy: 0.5000 - val_loss: 0.7978 - val_accuracy: 0.4091\n",
      "Epoch 11/20\n",
      "14/14 [==============================] - 0s 19ms/step - loss: 0.7187 - accuracy: 0.4689 - val_loss: 0.8254 - val_accuracy: 0.4091\n",
      "Epoch 12/20\n",
      "14/14 [==============================] - 0s 18ms/step - loss: 0.7123 - accuracy: 0.5167 - val_loss: 0.7673 - val_accuracy: 0.4091\n",
      "Epoch 13/20\n",
      "14/14 [==============================] - 0s 17ms/step - loss: 0.7011 - accuracy: 0.5263 - val_loss: 0.7230 - val_accuracy: 0.4091\n",
      "Epoch 14/20\n",
      "14/14 [==============================] - 0s 17ms/step - loss: 0.7159 - accuracy: 0.4976 - val_loss: 0.7451 - val_accuracy: 0.4091\n",
      "Epoch 15/20\n",
      "14/14 [==============================] - 0s 18ms/step - loss: 0.7122 - accuracy: 0.5048 - val_loss: 0.7447 - val_accuracy: 0.4091\n",
      "Epoch 16/20\n",
      "14/14 [==============================] - 0s 15ms/step - loss: 0.7096 - accuracy: 0.4880 - val_loss: 0.7437 - val_accuracy: 0.4091\n",
      "Epoch 17/20\n",
      "14/14 [==============================] - 0s 17ms/step - loss: 0.7040 - accuracy: 0.5239 - val_loss: 0.7641 - val_accuracy: 0.4091\n",
      "Epoch 18/20\n",
      "14/14 [==============================] - 0s 17ms/step - loss: 0.6977 - accuracy: 0.4976 - val_loss: 0.7766 - val_accuracy: 0.4091\n",
      "Epoch 19/20\n",
      "14/14 [==============================] - 0s 22ms/step - loss: 0.7135 - accuracy: 0.4809 - val_loss: 0.7400 - val_accuracy: 0.4091\n",
      "Epoch 20/20\n",
      "14/14 [==============================] - 0s 23ms/step - loss: 0.7022 - accuracy: 0.4856 - val_loss: 0.8384 - val_accuracy: 0.4091\n"
     ]
    }
   ],
   "source": [
    "model_hist = model.fit(X_train,y_train,epochs=gridsearch_keras.best_params_['model__epochs'],batch_size=gridsearch_keras.best_params_['model__batch_size'],\n",
    "                      validation_data=(X_test, y_test))"
   ]
  },
  {
   "cell_type": "code",
   "execution_count": 62,
   "metadata": {},
   "outputs": [
    {
     "data": {
      "image/png": "[encoded data removed]",
      "text/plain": [
       "<Figure size 432x288 with 1 Axes>"
      ]
     },
     "metadata": {
      "needs_background": "light"
     },
     "output_type": "display_data"
    },
    {
     "data": {
      "image/png": "[encoded data removed]",
      "text/plain": [
       "<Figure size 432x288 with 1 Axes>"
      ]
     },
     "metadata": {
      "needs_background": "light"
     },
     "output_type": "display_data"
    }
   ],
   "source": [
    "# summarize history for accuracy\n",
    "plt.plot(model_hist.history['accuracy'])\n",
    "plt.plot(model_hist.history['val_accuracy'])\n",
    "plt.title('model accuracy')\n",
    "plt.ylabel('accuracy')\n",
    "plt.xlabel('epoch')\n",
    "plt.legend(['train', 'test'], loc='upper left')\n",
    "plt.show()\n",
    "# summarize history for loss\n",
    "plt.plot(model_hist.history['loss'])\n",
    "plt.plot(model_hist.history['val_loss'])\n",
    "plt.title('model loss')\n",
    "plt.ylabel('loss')\n",
    "plt.xlabel('epoch')\n",
    "plt.legend(['train', 'test'], loc='upper left')\n",
    "plt.show()"
   ]
  }
 ],
 "metadata": {
  "kernelspec": {
   "display_name": "Python 3",
   "language": "python",
   "name": "python3"
  },
  "language_info": {
   "codemirror_mode": {
    "name": "ipython",
    "version": 3
   },
   "file_extension": ".py",
   "mimetype": "text/x-python",
   "name": "python",
   "nbconvert_exporter": "python",
   "pygments_lexer": "ipython3",
   "version": "3.7.6"
  }
 },
 "nbformat": 4,
 "nbformat_minor": 4
}
